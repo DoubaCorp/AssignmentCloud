{
 "cells": [
  {
   "cell_type": "code",
   "execution_count": 1,
   "id": "7fb6bf93",
   "metadata": {},
   "outputs": [],
   "source": [
    "from sklearn.model_selection import train_test_split\n",
    "from sklearn.feature_extraction.text import TfidfVectorizer\n",
    "from sklearn.preprocessing import LabelEncoder\n",
    "from sklearn.metrics import roc_auc_score\n",
    "import pandas as pd\n",
    "import re\n",
    "from nltk.corpus import stopwords\n",
    "from nltk.stem import PorterStemmer\n",
    "from nltk.tokenize import word_tokenize\n",
    "import mlflow\n",
    "import mlflow.sklearn"
   ]
  },
  {
   "cell_type": "code",
   "execution_count": 2,
   "id": "284abd4e",
   "metadata": {},
   "outputs": [
    {
     "name": "stdout",
     "output_type": "stream",
     "text": [
      "(50000, 2)\n"
     ]
    },
    {
     "data": {
      "text/html": [
       "<div>\n",
       "<style scoped>\n",
       "    .dataframe tbody tr th:only-of-type {\n",
       "        vertical-align: middle;\n",
       "    }\n",
       "\n",
       "    .dataframe tbody tr th {\n",
       "        vertical-align: top;\n",
       "    }\n",
       "\n",
       "    .dataframe thead th {\n",
       "        text-align: right;\n",
       "    }\n",
       "</style>\n",
       "<table border=\"1\" class=\"dataframe\">\n",
       "  <thead>\n",
       "    <tr style=\"text-align: right;\">\n",
       "      <th></th>\n",
       "      <th>review</th>\n",
       "      <th>sentiment</th>\n",
       "    </tr>\n",
       "  </thead>\n",
       "  <tbody>\n",
       "    <tr>\n",
       "      <th>0</th>\n",
       "      <td>One of the other reviewers has mentioned that ...</td>\n",
       "      <td>positive</td>\n",
       "    </tr>\n",
       "    <tr>\n",
       "      <th>1</th>\n",
       "      <td>A wonderful little production. &lt;br /&gt;&lt;br /&gt;The...</td>\n",
       "      <td>positive</td>\n",
       "    </tr>\n",
       "    <tr>\n",
       "      <th>2</th>\n",
       "      <td>I thought this was a wonderful way to spend ti...</td>\n",
       "      <td>positive</td>\n",
       "    </tr>\n",
       "    <tr>\n",
       "      <th>3</th>\n",
       "      <td>Basically there's a family where a little boy ...</td>\n",
       "      <td>negative</td>\n",
       "    </tr>\n",
       "    <tr>\n",
       "      <th>4</th>\n",
       "      <td>Petter Mattei's \"Love in the Time of Money\" is...</td>\n",
       "      <td>positive</td>\n",
       "    </tr>\n",
       "  </tbody>\n",
       "</table>\n",
       "</div>"
      ],
      "text/plain": [
       "                                              review sentiment\n",
       "0  One of the other reviewers has mentioned that ...  positive\n",
       "1  A wonderful little production. <br /><br />The...  positive\n",
       "2  I thought this was a wonderful way to spend ti...  positive\n",
       "3  Basically there's a family where a little boy ...  negative\n",
       "4  Petter Mattei's \"Love in the Time of Money\" is...  positive"
      ]
     },
     "execution_count": 2,
     "metadata": {},
     "output_type": "execute_result"
    }
   ],
   "source": [
    "# Load the data via pandas\n",
    "import pandas as pd\n",
    "df = pd.read_csv(\"IMDB_Dataset.csv\")\n",
    "#df['sentiment'] = df['sentiment'].map({'positive': 1, 'negative': 0})\n",
    "print(df.shape)\n",
    "df.head()"
   ]
  },
  {
   "cell_type": "code",
   "execution_count": 3,
   "id": "9ed5434b",
   "metadata": {},
   "outputs": [],
   "source": [
    "# Preprocess text data\n",
    "stop_words = set(stopwords.words('english'))\n",
    "ps = PorterStemmer()\n",
    "\n",
    "def preprocess_text(text):\n",
    "    # Remove HTML tags\n",
    "    text = re.sub(r'<.*?>', '', text)\n",
    "    # Remove punctuation and numbers\n",
    "    text = re.sub(r'[^a-zA-Z]', ' ', text)\n",
    "    # Convert to lowercase\n",
    "    text = text.lower()\n",
    "    # Tokenization and stemming\n",
    "    words = word_tokenize(text)\n",
    "    words = [ps.stem(word) for word in words if word not in stop_words]\n",
    "    return ' '.join(words)\n",
    "\n",
    "df['review'] = df['review'].apply(preprocess_text)"
   ]
  },
  {
   "cell_type": "code",
   "execution_count": 4,
   "id": "153abeff",
   "metadata": {},
   "outputs": [],
   "source": [
    "# Convert sentiment to 1 for positive, 0 for negative\n",
    "label_encoder = LabelEncoder()\n",
    "df['sentiment'] = label_encoder.fit_transform(df['sentiment'])"
   ]
  },
  {
   "cell_type": "code",
   "execution_count": 20,
   "id": "c0a47338",
   "metadata": {},
   "outputs": [],
   "source": [
    "subset_size = 5000  # ou toute autre taille que vous souhaitez\n",
    "df_subset = df.sample(subset_size, random_state=42)\n",
    "\n",
    "# Utiliser le sous-ensemble pour l'entraînement\n",
    "X_train, X_test, y_train, y_test = train_test_split(df_subset['review'], df_subset['sentiment'], test_size=0.2, random_state=42)"
   ]
  },
  {
   "cell_type": "code",
   "execution_count": 5,
   "id": "29f266c9",
   "metadata": {},
   "outputs": [],
   "source": [
    "# Split the dataset\n",
    "#X_train, X_test, y_train, y_test = train_test_split(df['review'], df['sentiment'], test_size=0.2, random_state=42)"
   ]
  },
  {
   "cell_type": "code",
   "execution_count": 21,
   "id": "cf58d471",
   "metadata": {},
   "outputs": [],
   "source": [
    "# Step 2: Text Vectorization\n",
    "vectorizer = TfidfVectorizer(max_features=5000)  # Adjust max_features as needed\n",
    "X_train_vectorized = vectorizer.fit_transform(X_train)\n",
    "X_test_vectorized = vectorizer.transform(X_test)"
   ]
  },
  {
   "cell_type": "code",
   "execution_count": 14,
   "id": "5b6ae693",
   "metadata": {},
   "outputs": [],
   "source": [
    "# Séparer le jeu de test et le jeu d'entraînement\n",
    "X_train = X_test_vectorized[:200]\n",
    "y_train = y_test[:200]\n",
    "\n",
    "X_test = X_test_vectorized[200:250]\n",
    "y_test = y_test[200:250]"
   ]
  },
  {
   "cell_type": "code",
   "execution_count": 22,
   "id": "f1d33482",
   "metadata": {},
   "outputs": [
    {
     "name": "stderr",
     "output_type": "stream",
     "text": [
      "2023/11/29 10:41:48 INFO mlflow.tracking.fluent: Experiment with name 'mlflow-imdb' does not exist. Creating a new experiment.\n"
     ]
    }
   ],
   "source": [
    "# Step 3: Build and Train Machine Learning Models\n",
    "from sklearn.linear_model import LogisticRegression\n",
    "from sklearn.naive_bayes import MultinomialNB\n",
    "from sklearn.svm import SVC\n",
    "from sklearn.ensemble import RandomForestClassifier\n",
    "from sklearn.metrics import accuracy_score, classification_report\n",
    "\n",
    "mlflow.set_experiment(\"mlflow-imdb\")\n",
    "\n",
    "def evaluate(sk_model, X_test_vectorized, y_test):\n",
    "    eval_acc = sk_model.score(X_test_vectorized, y_test)\n",
    "    preds = sk_model.predict(X_test_vectorized)\n",
    "    auc_score = roc_auc_score(y_test, preds)\n",
    "    mlflow.log_metric(\"eval_acc\", eval_acc) # nous avons fait la même chose pour l'accuracy de test (evaluation)\n",
    "    mlflow.log_metric(\"auc_score\", auc_score)# aussi pour l'AUC score \n",
    "    print(f\"Auc Score: {auc_score:.3%}\")\n",
    "    print(f\"Eval Accuracy: {eval_acc:.3%}\")\n"
   ]
  },
  {
   "cell_type": "code",
   "execution_count": 23,
   "id": "39e822b5",
   "metadata": {},
   "outputs": [
    {
     "name": "stdout",
     "output_type": "stream",
     "text": [
      "Train Accuracy: 93.675%\n"
     ]
    },
    {
     "ename": "NameError",
     "evalue": "name 'roc_auc_score' is not defined",
     "output_type": "error",
     "traceback": [
      "\u001b[1;31m---------------------------------------------------------------------------\u001b[0m",
      "\u001b[1;31mNameError\u001b[0m                                 Traceback (most recent call last)",
      "Cell \u001b[1;32mIn[23], line 15\u001b[0m\n\u001b[0;32m     13\u001b[0m mlflow\u001b[38;5;241m.\u001b[39mlog_metric(\u001b[38;5;124m\"\u001b[39m\u001b[38;5;124mtrain_acc\u001b[39m\u001b[38;5;124m\"\u001b[39m, train_acc) \n\u001b[0;32m     14\u001b[0m \u001b[38;5;28mprint\u001b[39m(\u001b[38;5;124mf\u001b[39m\u001b[38;5;124m\"\u001b[39m\u001b[38;5;124mTrain Accuracy: \u001b[39m\u001b[38;5;132;01m{\u001b[39;00mtrain_acc\u001b[38;5;132;01m:\u001b[39;00m\u001b[38;5;124m.3%\u001b[39m\u001b[38;5;132;01m}\u001b[39;00m\u001b[38;5;124m\"\u001b[39m)\n\u001b[1;32m---> 15\u001b[0m \u001b[43mevaluate\u001b[49m\u001b[43m(\u001b[49m\u001b[43msk_model\u001b[49m\u001b[43m,\u001b[49m\u001b[43m \u001b[49m\u001b[43mX_test_vectorized\u001b[49m\u001b[43m,\u001b[49m\u001b[43m \u001b[49m\u001b[43my_test\u001b[49m\u001b[43m)\u001b[49m\n\u001b[0;32m     16\u001b[0m mlflow\u001b[38;5;241m.\u001b[39msklearn\u001b[38;5;241m.\u001b[39mlog_model(sk_model, \u001b[38;5;124m\"\u001b[39m\u001b[38;5;124mlog_reg_model\u001b[39m\u001b[38;5;124m\"\u001b[39m)\n\u001b[0;32m     17\u001b[0m \u001b[38;5;28mprint\u001b[39m(\u001b[38;5;124m\"\u001b[39m\u001b[38;5;124mModel run: \u001b[39m\u001b[38;5;124m\"\u001b[39m, mlflow\u001b[38;5;241m.\u001b[39mactive_run()\u001b[38;5;241m.\u001b[39minfo\u001b[38;5;241m.\u001b[39mrun_uuid)\n",
      "Cell \u001b[1;32mIn[22], line 13\u001b[0m, in \u001b[0;36mevaluate\u001b[1;34m(sk_model, X_test_vectorized, y_test)\u001b[0m\n\u001b[0;32m     11\u001b[0m eval_acc \u001b[38;5;241m=\u001b[39m sk_model\u001b[38;5;241m.\u001b[39mscore(X_test_vectorized, y_test)\n\u001b[0;32m     12\u001b[0m preds \u001b[38;5;241m=\u001b[39m sk_model\u001b[38;5;241m.\u001b[39mpredict(X_test_vectorized)\n\u001b[1;32m---> 13\u001b[0m auc_score \u001b[38;5;241m=\u001b[39m \u001b[43mroc_auc_score\u001b[49m(y_test, preds)\n\u001b[0;32m     14\u001b[0m mlflow\u001b[38;5;241m.\u001b[39mlog_metric(\u001b[38;5;124m\"\u001b[39m\u001b[38;5;124meval_acc\u001b[39m\u001b[38;5;124m\"\u001b[39m, eval_acc) \u001b[38;5;66;03m# nous avons fait la même chose pour l'accuracy de test (evaluation)\u001b[39;00m\n\u001b[0;32m     15\u001b[0m mlflow\u001b[38;5;241m.\u001b[39mlog_metric(\u001b[38;5;124m\"\u001b[39m\u001b[38;5;124mauc_score\u001b[39m\u001b[38;5;124m\"\u001b[39m, auc_score)\u001b[38;5;66;03m# aussi pour l'AUC score \u001b[39;00m\n",
      "\u001b[1;31mNameError\u001b[0m: name 'roc_auc_score' is not defined"
     ]
    }
   ],
   "source": [
    "sk_model = LogisticRegression(random_state=None)\n",
    "mlflow.set_experiment(\"scikit_learn_imdb\")\n",
    "with mlflow.start_run():\n",
    "    #train(sk_model, x_train, y_train)\n",
    "    params = {\n",
    "    \"max_iter\": 1,\n",
    "    \"penalty\" : 'L1',\n",
    "    \"solver\": 'liblinear',\n",
    "    }\n",
    "    mlflow.log_params(params)\n",
    "    sk_model = sk_model.fit(X_train_vectorized, y_train)\n",
    "    train_acc = sk_model.score(X_train_vectorized, y_train)\n",
    "    mlflow.log_metric(\"train_acc\", train_acc) \n",
    "    print(f\"Train Accuracy: {train_acc:.3%}\")\n",
    "    evaluate(sk_model, X_test_vectorized, y_test)\n",
    "    mlflow.sklearn.log_model(sk_model, \"log_reg_model\")\n",
    "    print(\"Model run: \", mlflow.active_run().info.run_uuid)\n",
    "mlflow.end_run()"
   ]
  },
  {
   "cell_type": "code",
   "execution_count": null,
   "id": "de1a522d",
   "metadata": {},
   "outputs": [],
   "source": [
    "sk_model = SVC(random_state=None)\n",
    "mlflow.set_experiment(\"scikit_learn_imdb\")\n",
    "with mlflow.start_run():\n",
    "    params = {\n",
    "    \"max_iter\": 600,\n",
    "    \"C\": 1,\n",
    "    \"kernel\" : 'poly',\n",
    "    }\n",
    "    mlflow.log_params(params)\n",
    "    sk_model = sk_model.fit(X_train_vectorized, y_train)\n",
    "    train_acc = sk_model.score(X_train_vectorized, y_train)\n",
    "    mlflow.log_metric(\"train_acc\", train_acc)\n",
    "    print(f\"Train Accuracy: {train_acc:.3%}\")\n",
    "    evaluate(sk_model, X_test_vectorized, y_test)\n",
    "    mlflow.sklearn.log_model(sk_model, \"svc_model\")\n",
    "    print(\"Model run: \", mlflow.active_run().info.run_uuid)\n",
    "mlflow.end_run()"
   ]
  },
  {
   "cell_type": "code",
   "execution_count": null,
   "id": "e02a3dcd",
   "metadata": {},
   "outputs": [],
   "source": [
    "sk_model = RandomForestClassifier(random_state=None)\n",
    "mlflow.set_experiment(\"scikit_learn_imdb\")\n",
    "with mlflow.start_run():\n",
    "    params = {\n",
    "    'n_estimators': 100,\n",
    "    }\n",
    "    mlflow.log_params(params)\n",
    "    sk_model = sk_model.fit(X_train_vectorized, y_train)\n",
    "    train_acc = sk_model.score(X_train_vectorized, y_train)\n",
    "    mlflow.log_metric(\"train_acc\", train_acc)\n",
    "    print(f\"Train Accuracy: {train_acc:.3%}\")\n",
    "    evaluate(sk_model, X_test_vectorized, y_test)\n",
    "    mlflow.sklearn.log_model(sk_model, \"random_model\")\n",
    "    print(\"Model run: \", mlflow.active_run().info.run_uuid)\n",
    "mlflow.end_run()"
   ]
  },
  {
   "cell_type": "code",
   "execution_count": null,
   "id": "cb13244e",
   "metadata": {},
   "outputs": [],
   "source": [
    "sk_model = MultinomialNB(random_state=None)\n",
    "mlflow.set_experiment(\"scikit_learn_imdb\")\n",
    "with mlflow.start_run():\n",
    "    sk_model = sk_model.fit(X_train_vectorized, y_train)\n",
    "    train_acc = sk_model.score(X_train_vectorized, y_train)\n",
    "    mlflow.log_metric(\"train_acc\", train_acc)\n",
    "    print(f\"Train Accuracy: {train_acc:.3%}\")\n",
    "    evaluate(sk_model, X_test_vectorized, y_test)\n",
    "    mlflow.sklearn.log_model(sk_model, \"naives_model\")\n",
    "    print(\"Model run: \", mlflow.active_run().info.run_uuid)\n",
    "mlflow.end_run()"
   ]
  },
  {
   "cell_type": "code",
   "execution_count": null,
   "id": "b30f4857",
   "metadata": {},
   "outputs": [],
   "source": [
    "sk_model = KNeighborsClassifier(random_state=None)\n",
    "mlflow.set_experiment(\"scikit_learn_imdb\")\n",
    "with mlflow.start_run():\n",
    "    knn_params = {\n",
    "    \"n_neighbors\": 5,\n",
    "    \"weights\": \"uniform\",\n",
    "    \"algorithm\": \"auto\",\n",
    "    }\n",
    "    mlflow.log_params(params)\n",
    "    sk_model = sk_model.fit(X_train_vectorized, y_train)\n",
    "    train_acc = sk_model.score(X_train_vectorized, y_train)\n",
    "    mlflow.log_metric(\"train_acc\", train_acc)\n",
    "    print(f\"Train Accuracy: {train_acc:.3%}\")\n",
    "    evaluate(sk_model, X_test_vectorized, y_test)\n",
    "    mlflow.sklearn.log_model(sk_model, \"knn_model\")\n",
    "    print(\"Model run: \", mlflow.active_run().info.run_uuid)\n",
    "mlflow.end_run()"
   ]
  }
 ],
 "metadata": {
  "kernelspec": {
   "display_name": "Python 3 (ipykernel)",
   "language": "python",
   "name": "python3"
  },
  "language_info": {
   "codemirror_mode": {
    "name": "ipython",
    "version": 3
   },
   "file_extension": ".py",
   "mimetype": "text/x-python",
   "name": "python",
   "nbconvert_exporter": "python",
   "pygments_lexer": "ipython3",
   "version": "3.9.12"
  }
 },
 "nbformat": 4,
 "nbformat_minor": 5
}
