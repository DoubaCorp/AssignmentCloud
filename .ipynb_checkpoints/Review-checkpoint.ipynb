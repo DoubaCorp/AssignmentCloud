{
 "cells": [
  {
   "cell_type": "code",
   "execution_count": 1,
   "id": "49a756a0",
   "metadata": {
    "id": "49a756a0"
   },
   "outputs": [],
   "source": [
    "import pandas as pd\n",
    "from sklearn.model_selection import train_test_split\n",
    "from sklearn.feature_extraction.text import CountVectorizer\n",
    "from sklearn.ensemble import RandomForestClassifier\n",
    "from sklearn.metrics import accuracy_score\n",
    "import mlflow\n",
    "from mlflow.models.signature import infer_signature\n",
    "from sklearn.svm import SVC\n",
    "import numpy as np\n",
    "import matplotlib #\n",
    "import matplotlib.pyplot as plt\n",
    "import seaborn as sns\n",
    "import sklearn #\n",
    "from sklearn.linear_model import LogisticRegression\n",
    "from sklearn.neighbors import KNeighborsClassifier\n",
    "from sklearn.tree import DecisionTreeClassifier\n",
    "from sklearn.ensemble import GradientBoostingClassifier\n",
    "from sklearn.svm import SVC\n",
    "from sklearn.model_selection import train_test_split\n",
    "from sklearn.preprocessing import StandardScaler\n",
    "from sklearn.metrics import roc_auc_score, RocCurveDisplay,confusion_matrix\n",
    "from sklearn.model_selection import KFold\n",
    "import mlflow\n",
    "import mlflow.sklearn"
   ]
  },
  {
   "cell_type": "markdown",
   "id": "a4bde9f4",
   "metadata": {
    "id": "a4bde9f4"
   },
   "source": [
    "### Start by preprocessing your data"
   ]
  },
  {
   "cell_type": "code",
   "execution_count": 2,
   "id": "5ef85d25",
   "metadata": {
    "colab": {
     "base_uri": "https://localhost:8080/",
     "height": 223
    },
    "id": "5ef85d25",
    "outputId": "4d181854-af99-4641-eac7-3c9f722de09d"
   },
   "outputs": [
    {
     "name": "stdout",
     "output_type": "stream",
     "text": [
      "(50000, 2)\n"
     ]
    },
    {
     "data": {
      "text/html": [
       "<div>\n",
       "<style scoped>\n",
       "    .dataframe tbody tr th:only-of-type {\n",
       "        vertical-align: middle;\n",
       "    }\n",
       "\n",
       "    .dataframe tbody tr th {\n",
       "        vertical-align: top;\n",
       "    }\n",
       "\n",
       "    .dataframe thead th {\n",
       "        text-align: right;\n",
       "    }\n",
       "</style>\n",
       "<table border=\"1\" class=\"dataframe\">\n",
       "  <thead>\n",
       "    <tr style=\"text-align: right;\">\n",
       "      <th></th>\n",
       "      <th>review</th>\n",
       "      <th>sentiment</th>\n",
       "    </tr>\n",
       "  </thead>\n",
       "  <tbody>\n",
       "    <tr>\n",
       "      <th>0</th>\n",
       "      <td>One of the other reviewers has mentioned that ...</td>\n",
       "      <td>positive</td>\n",
       "    </tr>\n",
       "    <tr>\n",
       "      <th>1</th>\n",
       "      <td>A wonderful little production. &lt;br /&gt;&lt;br /&gt;The...</td>\n",
       "      <td>positive</td>\n",
       "    </tr>\n",
       "    <tr>\n",
       "      <th>2</th>\n",
       "      <td>I thought this was a wonderful way to spend ti...</td>\n",
       "      <td>positive</td>\n",
       "    </tr>\n",
       "    <tr>\n",
       "      <th>3</th>\n",
       "      <td>Basically there's a family where a little boy ...</td>\n",
       "      <td>negative</td>\n",
       "    </tr>\n",
       "    <tr>\n",
       "      <th>4</th>\n",
       "      <td>Petter Mattei's \"Love in the Time of Money\" is...</td>\n",
       "      <td>positive</td>\n",
       "    </tr>\n",
       "  </tbody>\n",
       "</table>\n",
       "</div>"
      ],
      "text/plain": [
       "                                              review sentiment\n",
       "0  One of the other reviewers has mentioned that ...  positive\n",
       "1  A wonderful little production. <br /><br />The...  positive\n",
       "2  I thought this was a wonderful way to spend ti...  positive\n",
       "3  Basically there's a family where a little boy ...  negative\n",
       "4  Petter Mattei's \"Love in the Time of Money\" is...  positive"
      ]
     },
     "execution_count": 2,
     "metadata": {},
     "output_type": "execute_result"
    }
   ],
   "source": [
    "# Load the data via pandas\n",
    "import pandas as pd\n",
    "df = pd.read_csv(\"IMDB_Dataset.csv\")\n",
    "print(df.shape)\n",
    "df.head()"
   ]
  },
  {
   "cell_type": "code",
   "execution_count": 3,
   "id": "6b94e2ad",
   "metadata": {
    "colab": {
     "base_uri": "https://localhost:8080/",
     "height": 174
    },
    "id": "6b94e2ad",
    "outputId": "c793c88b-c07b-462d-83ae-5cae89f50a3a"
   },
   "outputs": [
    {
     "data": {
      "text/html": [
       "<div>\n",
       "<style scoped>\n",
       "    .dataframe tbody tr th:only-of-type {\n",
       "        vertical-align: middle;\n",
       "    }\n",
       "\n",
       "    .dataframe tbody tr th {\n",
       "        vertical-align: top;\n",
       "    }\n",
       "\n",
       "    .dataframe thead th {\n",
       "        text-align: right;\n",
       "    }\n",
       "</style>\n",
       "<table border=\"1\" class=\"dataframe\">\n",
       "  <thead>\n",
       "    <tr style=\"text-align: right;\">\n",
       "      <th></th>\n",
       "      <th>review</th>\n",
       "      <th>sentiment</th>\n",
       "    </tr>\n",
       "  </thead>\n",
       "  <tbody>\n",
       "    <tr>\n",
       "      <th>count</th>\n",
       "      <td>50000</td>\n",
       "      <td>50000</td>\n",
       "    </tr>\n",
       "    <tr>\n",
       "      <th>unique</th>\n",
       "      <td>49582</td>\n",
       "      <td>2</td>\n",
       "    </tr>\n",
       "    <tr>\n",
       "      <th>top</th>\n",
       "      <td>Loved today's show!!! It was a variety and not...</td>\n",
       "      <td>positive</td>\n",
       "    </tr>\n",
       "    <tr>\n",
       "      <th>freq</th>\n",
       "      <td>5</td>\n",
       "      <td>25000</td>\n",
       "    </tr>\n",
       "  </tbody>\n",
       "</table>\n",
       "</div>"
      ],
      "text/plain": [
       "                                                   review sentiment\n",
       "count                                               50000     50000\n",
       "unique                                              49582         2\n",
       "top     Loved today's show!!! It was a variety and not...  positive\n",
       "freq                                                    5     25000"
      ]
     },
     "execution_count": 3,
     "metadata": {},
     "output_type": "execute_result"
    }
   ],
   "source": [
    "# Print the data infos & check for missing values\n",
    "df.describe()"
   ]
  },
  {
   "cell_type": "code",
   "execution_count": 4,
   "id": "hCd3A0gyTRGB",
   "metadata": {
    "id": "hCd3A0gyTRGB"
   },
   "outputs": [
    {
     "name": "stderr",
     "output_type": "stream",
     "text": [
      "[nltk_data] Downloading package stopwords to\n",
      "[nltk_data]     C:\\Users\\BADOU\\AppData\\Roaming\\nltk_data...\n",
      "[nltk_data]   Package stopwords is already up-to-date!\n",
      "[nltk_data] Downloading package wordnet to\n",
      "[nltk_data]     C:\\Users\\BADOU\\AppData\\Roaming\\nltk_data...\n",
      "[nltk_data]   Package wordnet is already up-to-date!\n"
     ]
    }
   ],
   "source": [
    "import pandas as pd\n",
    "from sklearn.model_selection import train_test_split\n",
    "from sklearn.feature_extraction.text import CountVectorizer\n",
    "from sklearn.ensemble import RandomForestClassifier\n",
    "from sklearn.metrics import accuracy_score\n",
    "from nltk.corpus import stopwords\n",
    "from nltk.stem import WordNetLemmatizer\n",
    "import string\n",
    "import nltk\n",
    "from mlflow.models.signature import infer_signature\n",
    "\n",
    "nltk.download('stopwords')\n",
    "nltk.download('wordnet')\n",
    "\n",
    "def preprocess_text(text):\n",
    "    # Convert to lowercase\n",
    "    text = text.lower()\n",
    "\n",
    "    # Remove special characters and punctuation\n",
    "    text = ''.join([char for char in text if char not in string.punctuation])\n",
    "\n",
    "    # Tokenization\n",
    "    tokens = text.split()\n",
    "\n",
    "    # Remove stopwords\n",
    "    stop_words = set(stopwords.words('english'))\n",
    "    tokens = [word for word in tokens if word not in stop_words]\n",
    "\n",
    "    # Lemmatization\n",
    "    lemmatizer = WordNetLemmatizer()\n",
    "    tokens = [lemmatizer.lemmatize(word) for word in tokens]\n",
    "\n",
    "    return ' '.join(tokens)"
   ]
  },
  {
   "cell_type": "code",
   "execution_count": 5,
   "id": "S8Yo0kDlTWPd",
   "metadata": {
    "id": "S8Yo0kDlTWPd"
   },
   "outputs": [],
   "source": [
    "# Apply text preprocessing to the \"review\" column\n",
    "df['review'] = df['review'].apply(preprocess_text)"
   ]
  },
  {
   "cell_type": "code",
   "execution_count": 18,
   "id": "6b31e774",
   "metadata": {},
   "outputs": [
    {
     "data": {
      "text/plain": [
       "'one reviewer mentioned watching 1 oz episode youll hooked right exactly happened mebr br first thing struck oz brutality unflinching scene violence set right word go trust show faint hearted timid show pull punch regard drug sex violence hardcore classic use wordbr br called oz nickname given oswald maximum security state penitentary focus mainly emerald city experimental section prison cell glass front face inwards privacy high agenda em city home manyaryans muslim gangsta latino christian italian irish moreso scuffle death stare dodgy dealing shady agreement never far awaybr br would say main appeal show due fact go show wouldnt dare forget pretty picture painted mainstream audience forget charm forget romanceoz doesnt mess around first episode ever saw struck nasty surreal couldnt say ready watched developed taste oz got accustomed high level graphic violence violence injustice crooked guard wholl sold nickel inmate wholl kill order get away well mannered middle class inmate turned prison bitch due lack street skill prison experience watching oz may become comfortable uncomfortable viewingthats get touch darker side'"
      ]
     },
     "execution_count": 18,
     "metadata": {},
     "output_type": "execute_result"
    }
   ],
   "source": [
    "df['review'][0]"
   ]
  },
  {
   "cell_type": "code",
   "execution_count": 6,
   "id": "KQztyaDKTYxT",
   "metadata": {
    "id": "KQztyaDKTYxT"
   },
   "outputs": [],
   "source": [
    "# Split the data into train and test sets\n",
    "X_train, X_test, y_train, y_test = train_test_split(df['review'], df['sentiment'], test_size=0.2, random_state=42)"
   ]
  },
  {
   "cell_type": "code",
   "execution_count": null,
   "id": "FLbSS71GTbPm",
   "metadata": {
    "id": "FLbSS71GTbPm"
   },
   "outputs": [],
   "source": [
    "# Preprocess the text data\n",
    "vectorizer = CountVectorizer()\n",
    "X_train_vectorized = vectorizer.fit_transform(X_train)\n",
    "X_test_vectorized = vectorizer.transform(X_test)"
   ]
  },
  {
   "cell_type": "code",
   "execution_count": 23,
   "id": "VMFITp5BTdqT",
   "metadata": {
    "id": "VMFITp5BTdqT"
   },
   "outputs": [],
   "source": [
    "from sklearn.preprocessing import LabelEncoder\n",
    "# Encodez les étiquettes textuelles en valeurs numériques\n",
    "label_encoder = LabelEncoder()\n",
    "y_train_encoded = label_encoder.fit_transform(y_train)\n",
    "y_test_encoded = label_encoder.transform(y_test)"
   ]
  },
  {
   "cell_type": "code",
   "execution_count": 25,
   "id": "EBjFD9WSTgeo",
   "metadata": {
    "id": "EBjFD9WSTgeo"
   },
   "outputs": [],
   "source": [
    "Xtrain = X_test_vectorized[:300]\n",
    "ytrain = y_test_encoded[:300]\n",
    "\n",
    "Xtest = X_test_vectorized[300:350]\n",
    "ytest = y_test_encoded[300:350]"
   ]
  },
  {
   "cell_type": "code",
   "execution_count": 33,
   "id": "0bcba2f4",
   "metadata": {},
   "outputs": [],
   "source": [
    "def evaluate(sk_model, x_test, y_test):\n",
    "    eval_acc = sk_model.score(x_test, y_test)\n",
    "    preds = sk_model.predict(x_test)\n",
    "    auc_score = roc_auc_score(y_test, preds)\n",
    "    mlflow.log_metric(\"eval_acc\", eval_acc) # nous avons fait la même chose pour l'accuracy de test (evaluation)\n",
    "    mlflow.log_metric(\"auc_score\", auc_score)# aussi pour l'AUC score \n",
    "    print(f\"Auc Score: {auc_score:.3%}\")\n",
    "    print(f\"Eval Accuracy: {eval_acc:.3%}\")\n",
    "    #roc_plot = RocCurveDisplay.plot(sk_model, x_test, y_test)\n",
    "    #plot_roc_curve(sk_model, x_test, y_test,name='Scikit-learn ROC Curve')\n",
    "    #plt.savefig(\"sklearn_roc_plot.png\")\n",
    "    #plt.show()\n",
    "    plt.clf()\n",
    "    conf_matrix = confusion_matrix(y_test, preds)\n",
    "    ax = sns.heatmap(conf_matrix, annot=True,fmt='g')\n",
    "    ax.invert_xaxis()\n",
    "    ax.invert_yaxis()\n",
    "    plt.ylabel('Actual')\n",
    "    plt.xlabel('Predicted')\n",
    "    plt.title(\"Confusion Matrix\")\n",
    "    plt.savefig(\"sklearn_conf_matrix.png\")\n",
    "    # nous avons dit à MLflow de sauvegarder ces deux figure afin de les consulter à chaque \n",
    "    # exécution d'une façon organisée comme nous allons le voir plus loin dans cet atelier  \n",
    "    #mlflow.log_artifact(\"sklearn_roc_plot.png\")\n",
    "    mlflow.log_artifact(\"sklearn_conf_matrix.png\")"
   ]
  },
  {
   "cell_type": "code",
   "execution_count": 34,
   "id": "7ffcb376",
   "metadata": {},
   "outputs": [
    {
     "name": "stdout",
     "output_type": "stream",
     "text": [
      "Train Accuracy: 98.333%\n",
      "Auc Score: 63.957%\n",
      "Eval Accuracy: 62.000%\n",
      "Model run:  a8460581c888438d9ea13098409a7415\n"
     ]
    },
    {
     "name": "stderr",
     "output_type": "stream",
     "text": [
      "C:\\Users\\BADOU\\anaconda3\\lib\\site-packages\\_distutils_hack\\__init__.py:33: UserWarning: Setuptools is replacing distutils.\n",
      "  warnings.warn(\"Setuptools is replacing distutils.\")\n"
     ]
    },
    {
     "data": {
      "image/png": "[encoded data removed]",
      "text/plain": [
       "<Figure size 640x480 with 2 Axes>"
      ]
     },
     "metadata": {},
     "output_type": "display_data"
    }
   ],
   "source": [
    "sk_model = SVC(random_state=None)\n",
    "mlflow.set_experiment(\"scikit_learn_experiment\")\n",
    "with mlflow.start_run():\n",
    "    #train(sk_model, x_train, y_train)\n",
    "    params = {\n",
    "    \"max_iter\": 600,\n",
    "    \"C\": 1,\n",
    "    \"kernel\" : 'poly', # kernel{‘linear’, ‘poly’, ‘rbf’, ‘sigmoid’, ‘precomputed’} or callable, default=’rbf’\n",
    "    }\n",
    "    mlflow.log_params(params)\n",
    "    sk_model = sk_model.fit(Xtrain, ytrain)\n",
    "    train_acc = sk_model.score(Xtrain, ytrain)\n",
    "    mlflow.log_metric(\"train_acc\", train_acc)\n",
    "    print(f\"Train Accuracy: {train_acc:.3%}\")\n",
    "    evaluate(sk_model, Xtest, ytest)\n",
    "    mlflow.sklearn.log_model(sk_model, \"svc_model\")\n",
    "    print(\"Model run: \", mlflow.active_run().info.run_uuid)\n",
    "mlflow.end_run()"
   ]
  },
  {
   "cell_type": "code",
   "execution_count": 35,
   "id": "775a4c09",
   "metadata": {},
   "outputs": [
    {
     "name": "stdout",
     "output_type": "stream",
     "text": [
      "Train Accuracy: 100.000%\n",
      "Auc Score: 74.302%\n",
      "Eval Accuracy: 74.000%\n",
      "Model run:  280614cf591c42838bbdb68d4afd2f2e\n"
     ]
    },
    {
     "data": {
      "image/png": "[encoded data removed]",
      "text/plain": [
       "<Figure size 640x480 with 2 Axes>"
      ]
     },
     "metadata": {},
     "output_type": "display_data"
    }
   ],
   "source": [
    "\n",
    "sk_model = LogisticRegression(random_state=None)\n",
    "mlflow.set_experiment(\"scikit_learn_experiment\")\n",
    "with mlflow.start_run():\n",
    "    #train(sk_model, x_train, y_train)\n",
    "    params = {\n",
    "    \"max_iter\": 1,\n",
    "    \"penalty\" : 'L1',\n",
    "    \"solver\": 'liblinear', #solver{‘newton-cg’, ‘lbfgs’, ‘liblinear’, ‘sag’, ‘saga’}, default=’lbfgs’\n",
    "    }\n",
    "    mlflow.log_params(params)\n",
    "    sk_model = sk_model.fit(Xtrain, ytrain)\n",
    "    train_acc = sk_model.score(Xtrain, ytrain)\n",
    "    mlflow.log_metric(\"train_acc\", train_acc) # ce bout de code va nous aider à suivre la mesure training accuracy. nous avons dit à Mlflow de suivre cette métrique à chaque exécution de code\n",
    "    print(f\"Train Accuracy: {train_acc:.3%}\")\n",
    "    evaluate(sk_model, Xtest, ytest)\n",
    "    mlflow.sklearn.log_model(sk_model, \"log_reg_model\")\n",
    "    print(\"Model run: \", mlflow.active_run().info.run_uuid)\n",
    "mlflow.end_run()"
   ]
  },
  {
   "cell_type": "code",
   "execution_count": 39,
   "id": "ad65bea5",
   "metadata": {},
   "outputs": [
    {
     "name": "stderr",
     "output_type": "stream",
     "text": [
      "C:\\Users\\BADOU\\anaconda3\\lib\\site-packages\\sklearn\\neighbors\\_classification.py:211: FutureWarning: Unlike other reduction functions (e.g. `skew`, `kurtosis`), the default behavior of `mode` typically preserves the axis it acts along. In SciPy 1.11.0, this behavior will change: the default value of `keepdims` will become False, the `axis` over which the statistic is taken will be eliminated, and the value None will no longer be accepted. Set `keepdims` to True or False to avoid this warning.\n",
      "  mode, _ = stats.mode(_y[neigh_ind, k], axis=1)\n",
      "C:\\Users\\BADOU\\anaconda3\\lib\\site-packages\\sklearn\\neighbors\\_classification.py:211: FutureWarning: Unlike other reduction functions (e.g. `skew`, `kurtosis`), the default behavior of `mode` typically preserves the axis it acts along. In SciPy 1.11.0, this behavior will change: the default value of `keepdims` will become False, the `axis` over which the statistic is taken will be eliminated, and the value None will no longer be accepted. Set `keepdims` to True or False to avoid this warning.\n",
      "  mode, _ = stats.mode(_y[neigh_ind, k], axis=1)\n",
      "C:\\Users\\BADOU\\anaconda3\\lib\\site-packages\\sklearn\\neighbors\\_classification.py:211: FutureWarning: Unlike other reduction functions (e.g. `skew`, `kurtosis`), the default behavior of `mode` typically preserves the axis it acts along. In SciPy 1.11.0, this behavior will change: the default value of `keepdims` will become False, the `axis` over which the statistic is taken will be eliminated, and the value None will no longer be accepted. Set `keepdims` to True or False to avoid this warning.\n",
      "  mode, _ = stats.mode(_y[neigh_ind, k], axis=1)\n"
     ]
    },
    {
     "name": "stdout",
     "output_type": "stream",
     "text": [
      "Train Accuracy: 73.000%\n",
      "Auc Score: 63.054%\n",
      "Eval Accuracy: 64.000%\n",
      "Model run:  f6940b6019824dcd8e9b6feb6a3dfbd5\n"
     ]
    },
    {
     "data": {
      "image/png": "[encoded data removed]",
      "text/plain": [
       "<Figure size 640x480 with 2 Axes>"
      ]
     },
     "metadata": {},
     "output_type": "display_data"
    }
   ],
   "source": [
    "sk_model = KNeighborsClassifier()\n",
    "mlflow.set_experiment(\"scikit_learn_experiment\")\n",
    "with mlflow.start_run():\n",
    "    #train(sk_model, x_train, y_train)\n",
    "    params = {\n",
    "        \"n_neighbors\": 5,  # Number of neighbors to use\n",
    "        \"weights\": \"uniform\",  # Weight function used in prediction\n",
    "        \"algorithm\": \"auto\",  # Algorithm used to compute nearest neighbors\n",
    "    }\n",
    "    mlflow.log_params(params)\n",
    "    sk_model = sk_model.fit(Xtrain, ytrain)\n",
    "    train_acc = sk_model.score(Xtrain, ytrain)\n",
    "    mlflow.log_metric(\"train_acc\", train_acc) # ce bout de code va nous aider à suivre la mesure training accuracy. nous avons dit à Mlflow de suivre cette métrique à chaque exécution de code\n",
    "    print(f\"Train Accuracy: {train_acc:.3%}\")\n",
    "    evaluate(sk_model, Xtest, ytest)\n",
    "    mlflow.sklearn.log_model(sk_model, \"knn_model\")\n",
    "    print(\"Model run: \", mlflow.active_run().info.run_uuid)\n",
    "mlflow.end_run()"
   ]
  },
  {
   "cell_type": "code",
   "execution_count": 42,
   "id": "1ff15303",
   "metadata": {},
   "outputs": [
    {
     "name": "stdout",
     "output_type": "stream",
     "text": [
      "Train Accuracy: 100.000%\n",
      "Auc Score: 65.025%\n",
      "Eval Accuracy: 64.000%\n",
      "Model run:  d414c5c245834753aed6bd7154da6d1e\n"
     ]
    },
    {
     "data": {
      "image/png": "[encoded data removed]",
      "text/plain": [
       "<Figure size 640x480 with 2 Axes>"
      ]
     },
     "metadata": {},
     "output_type": "display_data"
    }
   ],
   "source": [
    "sk_model = DecisionTreeClassifier()\n",
    "mlflow.set_experiment(\"scikit_learn_experiment\")\n",
    "with mlflow.start_run():\n",
    "    #train(sk_model, x_train, y_train)\n",
    "    params = {\n",
    "        \"criterion\": \"gini\",  # Criterion to measure the quality of a split\n",
    "        \"max_depth\": None,  # Maximum depth of the tree\n",
    "        \"min_samples_split\": 2,  # Minimum number of samples required to split an internal node\n",
    "    }\n",
    "\n",
    "    mlflow.log_params(params)\n",
    "    sk_model = sk_model.fit(Xtrain, ytrain)\n",
    "    train_acc = sk_model.score(Xtrain, ytrain)\n",
    "    mlflow.log_metric(\"train_acc\", train_acc) # ce bout de code va nous aider à suivre la mesure training accuracy. nous avons dit à Mlflow de suivre cette métrique à chaque exécution de code\n",
    "    print(f\"Train Accuracy: {train_acc:.3%}\")\n",
    "    evaluate(sk_model, Xtest, ytest)\n",
    "    mlflow.sklearn.log_model(sk_model, \"dt_model\")\n",
    "    print(\"Model run: \", mlflow.active_run().info.run_uuid)\n",
    "mlflow.end_run()"
   ]
  },
  {
   "cell_type": "code",
   "execution_count": 44,
   "id": "22fe95fa",
   "metadata": {},
   "outputs": [
    {
     "name": "stdout",
     "output_type": "stream",
     "text": [
      "Train Accuracy: 100.000%\n",
      "Auc Score: 72.824%\n",
      "Eval Accuracy: 70.000%\n",
      "Model run:  ea5ad6e18aa241958d2f8fb3700d3356\n"
     ]
    },
    {
     "data": {
      "image/png": "[encoded data removed]",
      "text/plain": [
       "<Figure size 640x480 with 2 Axes>"
      ]
     },
     "metadata": {},
     "output_type": "display_data"
    }
   ],
   "source": [
    "sk_model = GradientBoostingClassifier()\n",
    "mlflow.set_experiment(\"scikit_learn_experiment\")\n",
    "with mlflow.start_run():\n",
    "    #train(sk_model, x_train, y_train)\n",
    "    params = {\n",
    "        \"n_estimators\": 100,  # Number of boosting stages to be run\n",
    "        \"learning_rate\": 0.1,  # Step size shrinkage used in update to prevent overfitting\n",
    "        \"max_depth\": 3,  # Maximum depth of the individual trees\n",
    "    }\n",
    "\n",
    "    mlflow.log_params(params)\n",
    "    sk_model = sk_model.fit(Xtrain, ytrain)\n",
    "    train_acc = sk_model.score(Xtrain, ytrain)\n",
    "    mlflow.log_metric(\"train_acc\", train_acc) # ce bout de code va nous aider à suivre la mesure training accuracy. nous avons dit à Mlflow de suivre cette métrique à chaque exécution de code\n",
    "    print(f\"Train Accuracy: {train_acc:.3%}\")\n",
    "    evaluate(sk_model, Xtest, ytest)\n",
    "    mlflow.sklearn.log_model(sk_model, \"GBC_model\")\n",
    "    print(\"Model run: \", mlflow.active_run().info.run_uuid)\n",
    "mlflow.end_run()"
   ]
  },
  {
   "cell_type": "code",
   "execution_count": 54,
   "id": "ed650a4f",
   "metadata": {},
   "outputs": [],
   "source": [
    "def train_and_log_model(model, params, Xtrain, ytrain, Xtest, ytest, model_name):\n",
    "    mlflow.set_experiment(\"scikit_learn_experiment\")\n",
    "    with mlflow.start_run():\n",
    "        mlflow.log_params(params)\n",
    "        trained_model = model.fit(Xtrain, ytrain)\n",
    "        train_acc = trained_model.score(Xtrain, ytrain)\n",
    "        mlflow.log_metric(\"train_acc\", train_acc)\n",
    "        print(f\"{model_name} Train Accuracy: {train_acc:.3%}\")\n",
    "        evaluate(trained_model, Xtest, ytest)\n",
    "        mlflow.sklearn.log_model(trained_model, f\"{model_name}_model\")\n",
    "        print(f\"{model_name} Model run: \", mlflow.active_run().info.run_uuid)\n",
    "    mlflow.end_run()\n",
    "    return trained_model, train_acc\n"
   ]
  },
  {
   "cell_type": "code",
   "execution_count": 55,
   "id": "57ac17f0",
   "metadata": {},
   "outputs": [
    {
     "name": "stdout",
     "output_type": "stream",
     "text": [
      "SVM Train Accuracy: 98.333%\n",
      "Auc Score: 63.957%\n",
      "Eval Accuracy: 62.000%\n",
      "SVM Model run:  66c9d58a3f924adb997b42c9e0ab4212\n",
      "Logistic Regression Train Accuracy: 100.000%\n",
      "Auc Score: 74.302%\n",
      "Eval Accuracy: 74.000%\n",
      "Logistic Regression Model run:  14922b4d2c8f46aa9d09c27cd5c5ec7b\n",
      "KNN Train Accuracy: 73.000%\n",
      "Auc Score: 63.054%\n",
      "Eval Accuracy: 64.000%\n"
     ]
    },
    {
     "name": "stderr",
     "output_type": "stream",
     "text": [
      "C:\\Users\\BADOU\\anaconda3\\lib\\site-packages\\sklearn\\neighbors\\_classification.py:211: FutureWarning: Unlike other reduction functions (e.g. `skew`, `kurtosis`), the default behavior of `mode` typically preserves the axis it acts along. In SciPy 1.11.0, this behavior will change: the default value of `keepdims` will become False, the `axis` over which the statistic is taken will be eliminated, and the value None will no longer be accepted. Set `keepdims` to True or False to avoid this warning.\n",
      "  mode, _ = stats.mode(_y[neigh_ind, k], axis=1)\n",
      "C:\\Users\\BADOU\\anaconda3\\lib\\site-packages\\sklearn\\neighbors\\_classification.py:211: FutureWarning: Unlike other reduction functions (e.g. `skew`, `kurtosis`), the default behavior of `mode` typically preserves the axis it acts along. In SciPy 1.11.0, this behavior will change: the default value of `keepdims` will become False, the `axis` over which the statistic is taken will be eliminated, and the value None will no longer be accepted. Set `keepdims` to True or False to avoid this warning.\n",
      "  mode, _ = stats.mode(_y[neigh_ind, k], axis=1)\n",
      "C:\\Users\\BADOU\\anaconda3\\lib\\site-packages\\sklearn\\neighbors\\_classification.py:211: FutureWarning: Unlike other reduction functions (e.g. `skew`, `kurtosis`), the default behavior of `mode` typically preserves the axis it acts along. In SciPy 1.11.0, this behavior will change: the default value of `keepdims` will become False, the `axis` over which the statistic is taken will be eliminated, and the value None will no longer be accepted. Set `keepdims` to True or False to avoid this warning.\n",
      "  mode, _ = stats.mode(_y[neigh_ind, k], axis=1)\n"
     ]
    },
    {
     "name": "stdout",
     "output_type": "stream",
     "text": [
      "KNN Model run:  29d47716a2a642a8802e00a739a692e3\n",
      "Decision Tree Train Accuracy: 100.000%\n",
      "Auc Score: 67.652%\n",
      "Eval Accuracy: 64.000%\n",
      "Decision Tree Model run:  888c564a19304437985c17e3dc88b17c\n",
      "Gradient Boosting Train Accuracy: 100.000%\n",
      "Auc Score: 71.100%\n",
      "Eval Accuracy: 68.000%\n",
      "Gradient Boosting Model run:  5db60359418f489ba0959b42c902299a\n"
     ]
    },
    {
     "data": {
      "image/png": "[encoded data removed]",
      "text/plain": [
       "<Figure size 640x480 with 2 Axes>"
      ]
     },
     "metadata": {},
     "output_type": "display_data"
    }
   ],
   "source": [
    "# Support Vector Machine (SVM)\n",
    "svm_model = SVC()\n",
    "svm_params = {\n",
    "    \"max_iter\": 600,\n",
    "    \"C\": 1,\n",
    "    \"kernel\" : 'poly',\n",
    "    }\n",
    "svm_model, svm_train_acc = train_and_log_model(svm_model, svm_params, Xtrain, ytrain, Xtest, ytest, \"SVM\")\n",
    "\n",
    "# Logistic Regression\n",
    "log_reg_model = LogisticRegression(random_state=None)\n",
    "log_reg_params = {\n",
    "    \"max_iter\": 1,\n",
    "    \"penalty\": 'l2',\n",
    "    \"solver\": 'lbfgs',\n",
    "}\n",
    "log_reg_model, log_reg_train_acc = train_and_log_model(log_reg_model, log_reg_params, Xtrain, ytrain, Xtest, ytest, \"Logistic Regression\")\n",
    "\n",
    "# K-Nearest Neighbors\n",
    "knn_model = KNeighborsClassifier()\n",
    "knn_params = {\n",
    "    \"n_neighbors\": 5,\n",
    "    \"weights\": \"uniform\",\n",
    "    \"algorithm\": \"auto\",\n",
    "}\n",
    "knn_model, knn_train_acc = train_and_log_model(knn_model, knn_params, Xtrain, ytrain, Xtest, ytest, \"KNN\")\n",
    "\n",
    "# Decision Tree\n",
    "dt_model = DecisionTreeClassifier(random_state=None)\n",
    "dt_params = {\n",
    "    \"criterion\": \"gini\",\n",
    "    \"max_depth\": None,\n",
    "    \"min_samples_split\": 2,\n",
    "}\n",
    "dt_model, dt_train_acc = train_and_log_model(dt_model, dt_params, Xtrain, ytrain, Xtest, ytest, \"Decision Tree\")\n",
    "\n",
    "# Gradient Boosting\n",
    "gb_model = GradientBoostingClassifier(random_state=None)\n",
    "gb_params = {\n",
    "    \"n_estimators\": 100,\n",
    "    \"learning_rate\": 0.1,\n",
    "    \"max_depth\": 3,\n",
    "}\n",
    "gb_model, gb_train_acc = train_and_log_model(gb_model, gb_params, Xtrain, ytrain, Xtest, ytest, \"Gradient Boosting\")\n"
   ]
  },
  {
   "cell_type": "code",
   "execution_count": 56,
   "id": "2023c40e",
   "metadata": {},
   "outputs": [
    {
     "name": "stdout",
     "output_type": "stream",
     "text": [
      "The best model is Logistic Regression with a test accuracy of 100.000%\n"
     ]
    }
   ],
   "source": [
    "best_model_info = max(\n",
    "    (\"Logistic Regression\", log_reg_model, log_reg_train_acc),\n",
    "    (\"KNN\", knn_model, knn_train_acc),\n",
    "    (\"Decision Tree\", dt_model, dt_train_acc),\n",
    "    (\"Gradient Boosting\", gb_model, gb_train_acc),\n",
    "    (\"SVM\", svm_model, svm_train_acc),\n",
    "    key=lambda x: x[2]\n",
    ")\n",
    "\n",
    "best_model_name, best_model, best_model_acc = best_model_info\n",
    "print(f\"The best model is {best_model_name} with a test accuracy of {best_model_acc:.3%}\")"
   ]
  },
  {
   "cell_type": "code",
   "execution_count": null,
   "id": "afc39925",
   "metadata": {},
   "outputs": [],
   "source": []
  }
 ],
 "metadata": {
  "accelerator": "GPU",
  "colab": {
   "gpuType": "T4",
   "provenance": []
  },
  "kernelspec": {
   "display_name": "Python 3 (ipykernel)",
   "language": "python",
   "name": "python3"
  },
  "language_info": {
   "codemirror_mode": {
    "name": "ipython",
    "version": 3
   },
   "file_extension": ".py",
   "mimetype": "text/x-python",
   "name": "python",
   "nbconvert_exporter": "python",
   "pygments_lexer": "ipython3",
   "version": "3.9.12"
  }
 },
 "nbformat": 4,
 "nbformat_minor": 5
}
